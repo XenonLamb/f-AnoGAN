{
 "cells": [
  {
   "cell_type": "code",
   "execution_count": 1,
   "id": "593995f7-4433-4f34-aef2-93c5b44b743f",
   "metadata": {},
   "outputs": [],
   "source": [
    "import matplotlib.pyplot as plt\n",
    "import numpy as np\n",
    "import pandas as pd\n",
    "from sklearn.metrics import roc_curve,  precision_recall_curve, auc"
   ]
  },
  {
   "cell_type": "code",
   "execution_count": 8,
   "id": "016ffba3-8c38-4278-bf38-405b6c3f74d5",
   "metadata": {},
   "outputs": [
    {
     "data": {
      "text/html": [
       "<div>\n",
       "<style scoped>\n",
       "    .dataframe tbody tr th:only-of-type {\n",
       "        vertical-align: middle;\n",
       "    }\n",
       "\n",
       "    .dataframe tbody tr th {\n",
       "        vertical-align: top;\n",
       "    }\n",
       "\n",
       "    .dataframe thead th {\n",
       "        text-align: right;\n",
       "    }\n",
       "</style>\n",
       "<table border=\"1\" class=\"dataframe\">\n",
       "  <thead>\n",
       "    <tr style=\"text-align: right;\">\n",
       "      <th></th>\n",
       "      <th>label</th>\n",
       "      <th>img_distance</th>\n",
       "      <th>anomaly_score</th>\n",
       "      <th>z_distance</th>\n",
       "    </tr>\n",
       "  </thead>\n",
       "  <tbody>\n",
       "    <tr>\n",
       "      <th>0</th>\n",
       "      <td>5</td>\n",
       "      <td>0.003345</td>\n",
       "      <td>0.004448</td>\n",
       "      <td>0.005353</td>\n",
       "    </tr>\n",
       "    <tr>\n",
       "      <th>1</th>\n",
       "      <td>5</td>\n",
       "      <td>0.003279</td>\n",
       "      <td>0.004689</td>\n",
       "      <td>0.006735</td>\n",
       "    </tr>\n",
       "    <tr>\n",
       "      <th>2</th>\n",
       "      <td>5</td>\n",
       "      <td>0.003084</td>\n",
       "      <td>0.004238</td>\n",
       "      <td>0.019216</td>\n",
       "    </tr>\n",
       "    <tr>\n",
       "      <th>3</th>\n",
       "      <td>5</td>\n",
       "      <td>0.003849</td>\n",
       "      <td>0.004802</td>\n",
       "      <td>0.021394</td>\n",
       "    </tr>\n",
       "    <tr>\n",
       "      <th>4</th>\n",
       "      <td>5</td>\n",
       "      <td>0.002957</td>\n",
       "      <td>0.005190</td>\n",
       "      <td>0.009438</td>\n",
       "    </tr>\n",
       "    <tr>\n",
       "      <th>...</th>\n",
       "      <td>...</td>\n",
       "      <td>...</td>\n",
       "      <td>...</td>\n",
       "      <td>...</td>\n",
       "    </tr>\n",
       "    <tr>\n",
       "      <th>146</th>\n",
       "      <td>3</td>\n",
       "      <td>0.004941</td>\n",
       "      <td>0.006084</td>\n",
       "      <td>0.046723</td>\n",
       "    </tr>\n",
       "    <tr>\n",
       "      <th>147</th>\n",
       "      <td>3</td>\n",
       "      <td>0.003382</td>\n",
       "      <td>0.004522</td>\n",
       "      <td>0.018303</td>\n",
       "    </tr>\n",
       "    <tr>\n",
       "      <th>148</th>\n",
       "      <td>3</td>\n",
       "      <td>0.004398</td>\n",
       "      <td>0.006085</td>\n",
       "      <td>0.013630</td>\n",
       "    </tr>\n",
       "    <tr>\n",
       "      <th>149</th>\n",
       "      <td>3</td>\n",
       "      <td>0.003634</td>\n",
       "      <td>0.005534</td>\n",
       "      <td>0.009944</td>\n",
       "    </tr>\n",
       "    <tr>\n",
       "      <th>150</th>\n",
       "      <td>3</td>\n",
       "      <td>0.004869</td>\n",
       "      <td>0.008310</td>\n",
       "      <td>0.005581</td>\n",
       "    </tr>\n",
       "  </tbody>\n",
       "</table>\n",
       "<p>151 rows × 4 columns</p>\n",
       "</div>"
      ],
      "text/plain": [
       "     label  img_distance  anomaly_score  z_distance\n",
       "0        5      0.003345       0.004448    0.005353\n",
       "1        5      0.003279       0.004689    0.006735\n",
       "2        5      0.003084       0.004238    0.019216\n",
       "3        5      0.003849       0.004802    0.021394\n",
       "4        5      0.002957       0.005190    0.009438\n",
       "..     ...           ...            ...         ...\n",
       "146      3      0.004941       0.006084    0.046723\n",
       "147      3      0.003382       0.004522    0.018303\n",
       "148      3      0.004398       0.006085    0.013630\n",
       "149      3      0.003634       0.005534    0.009944\n",
       "150      3      0.004869       0.008310    0.005581\n",
       "\n",
       "[151 rows x 4 columns]"
      ]
     },
     "execution_count": 8,
     "metadata": {},
     "output_type": "execute_result"
    }
   ],
   "source": [
    "df = pd.read_csv(\"results/score.csv\")\n",
    "df"
   ]
  },
  {
   "cell_type": "code",
   "execution_count": 9,
   "id": "3a800571-73c8-4059-81ab-5cae2d813e63",
   "metadata": {},
   "outputs": [],
   "source": [
    "trainig_label = 0\n",
    "labels = np.where(df[\"label\"].values == trainig_label, 0, 1)\n",
    "anomaly_score = df[\"anomaly_score\"].values\n",
    "img_distance = df[\"img_distance\"].values\n",
    "z_distance = df[\"z_distance\"].values"
   ]
  },
  {
   "cell_type": "code",
   "execution_count": 12,
   "id": "626b3bb5-0e53-4217-904f-638a565589c9",
   "metadata": {},
   "outputs": [],
   "source": [
    "fpr, tpr, _ = roc_curve(labels, img_distance)\n",
    "precision, recall, _ = precision_recall_curve(labels, anomaly_score)\n",
    "roc_auc = auc(fpr, tpr)\n",
    "pr_auc =  auc(recall, precision)"
   ]
  },
  {
   "cell_type": "code",
   "execution_count": 13,
   "id": "9a139a2c-a62f-4320-bdca-d8531b588b37",
   "metadata": {},
   "outputs": [
    {
     "data": {
      "image/png": "[encoded data removed]",
      "text/plain": [
       "<Figure size 432x288 with 1 Axes>"
      ]
     },
     "metadata": {
      "needs_background": "light"
     },
     "output_type": "display_data"
    }
   ],
   "source": [
    "plt.plot(fpr, tpr, label=f\"AUC = {roc_auc:3f}\")\n",
    "plt.plot([0, 1], [0, 1], linestyle=\"--\")\n",
    "plt.title(\"ROC-AUC\")\n",
    "plt.xlabel(\"False Positive Rate\")\n",
    "plt.ylabel(\"True Positive Rate\")\n",
    "plt.legend()\n",
    "plt.show()"
   ]
  },
  {
   "cell_type": "code",
   "execution_count": 14,
   "id": "25fcd585-079a-4064-9ad4-4f74b69fc72e",
   "metadata": {},
   "outputs": [
    {
     "data": {
      "image/png": "[encoded data removed]",
      "text/plain": [
       "<Figure size 432x288 with 1 Axes>"
      ]
     },
     "metadata": {
      "needs_background": "light"
     },
     "output_type": "display_data"
    }
   ],
   "source": [
    "plt.plot(recall, precision, label=f\" AUC = {pr_auc:3f}\")\n",
    "plt.title(\"PR-AUC\")\n",
    "plt.xlabel(\"Recall\")\n",
    "plt.ylabel(\"Pecision\")\n",
    "plt.legend()\n",
    "plt.show()"
   ]
  },
  {
   "cell_type": "code",
   "execution_count": 15,
   "id": "6f609fe1-b429-4c38-87e6-1ac44ed5275a",
   "metadata": {},
   "outputs": [],
   "source": [
    "mvtec_dict = {'fpr': fpr ,'tpr':tpr}"
   ]
  },
  {
   "cell_type": "code",
   "execution_count": 21,
   "id": "e8dcefac-41aa-4ffd-93fc-a258b3ffe78b",
   "metadata": {},
   "outputs": [
    {
     "data": {
      "text/html": [
       "<div>\n",
       "<style scoped>\n",
       "    .dataframe tbody tr th:only-of-type {\n",
       "        vertical-align: middle;\n",
       "    }\n",
       "\n",
       "    .dataframe tbody tr th {\n",
       "        vertical-align: top;\n",
       "    }\n",
       "\n",
       "    .dataframe thead th {\n",
       "        text-align: right;\n",
       "    }\n",
       "</style>\n",
       "<table border=\"1\" class=\"dataframe\">\n",
       "  <thead>\n",
       "    <tr style=\"text-align: right;\">\n",
       "      <th></th>\n",
       "      <th>label</th>\n",
       "      <th>img_distance</th>\n",
       "      <th>anomaly_score</th>\n",
       "      <th>z_distance</th>\n",
       "    </tr>\n",
       "  </thead>\n",
       "  <tbody>\n",
       "    <tr>\n",
       "      <th>0</th>\n",
       "      <td>8</td>\n",
       "      <td>0.184299</td>\n",
       "      <td>0.354620</td>\n",
       "      <td>0.010346</td>\n",
       "    </tr>\n",
       "    <tr>\n",
       "      <th>1</th>\n",
       "      <td>8</td>\n",
       "      <td>0.287613</td>\n",
       "      <td>0.663936</td>\n",
       "      <td>0.118346</td>\n",
       "    </tr>\n",
       "    <tr>\n",
       "      <th>2</th>\n",
       "      <td>8</td>\n",
       "      <td>0.129002</td>\n",
       "      <td>0.161997</td>\n",
       "      <td>0.018700</td>\n",
       "    </tr>\n",
       "    <tr>\n",
       "      <th>3</th>\n",
       "      <td>8</td>\n",
       "      <td>0.163424</td>\n",
       "      <td>0.234886</td>\n",
       "      <td>0.046786</td>\n",
       "    </tr>\n",
       "    <tr>\n",
       "      <th>4</th>\n",
       "      <td>8</td>\n",
       "      <td>0.211301</td>\n",
       "      <td>0.309707</td>\n",
       "      <td>0.023272</td>\n",
       "    </tr>\n",
       "    <tr>\n",
       "      <th>...</th>\n",
       "      <td>...</td>\n",
       "      <td>...</td>\n",
       "      <td>...</td>\n",
       "      <td>...</td>\n",
       "    </tr>\n",
       "    <tr>\n",
       "      <th>65315</th>\n",
       "      <td>2</td>\n",
       "      <td>0.398235</td>\n",
       "      <td>1.224788</td>\n",
       "      <td>0.048210</td>\n",
       "    </tr>\n",
       "    <tr>\n",
       "      <th>65316</th>\n",
       "      <td>3</td>\n",
       "      <td>0.343631</td>\n",
       "      <td>0.463914</td>\n",
       "      <td>0.318012</td>\n",
       "    </tr>\n",
       "    <tr>\n",
       "      <th>65317</th>\n",
       "      <td>4</td>\n",
       "      <td>0.238426</td>\n",
       "      <td>0.464621</td>\n",
       "      <td>0.133954</td>\n",
       "    </tr>\n",
       "    <tr>\n",
       "      <th>65318</th>\n",
       "      <td>5</td>\n",
       "      <td>0.299351</td>\n",
       "      <td>0.544842</td>\n",
       "      <td>0.067665</td>\n",
       "    </tr>\n",
       "    <tr>\n",
       "      <th>65319</th>\n",
       "      <td>6</td>\n",
       "      <td>0.462565</td>\n",
       "      <td>0.940441</td>\n",
       "      <td>0.090853</td>\n",
       "    </tr>\n",
       "  </tbody>\n",
       "</table>\n",
       "<p>65320 rows × 4 columns</p>\n",
       "</div>"
      ],
      "text/plain": [
       "       label  img_distance  anomaly_score  z_distance\n",
       "0          8      0.184299       0.354620    0.010346\n",
       "1          8      0.287613       0.663936    0.118346\n",
       "2          8      0.129002       0.161997    0.018700\n",
       "3          8      0.163424       0.234886    0.046786\n",
       "4          8      0.211301       0.309707    0.023272\n",
       "...      ...           ...            ...         ...\n",
       "65315      2      0.398235       1.224788    0.048210\n",
       "65316      3      0.343631       0.463914    0.318012\n",
       "65317      4      0.238426       0.464621    0.133954\n",
       "65318      5      0.299351       0.544842    0.067665\n",
       "65319      6      0.462565       0.940441    0.090853\n",
       "\n",
       "[65320 rows x 4 columns]"
      ]
     },
     "execution_count": 21,
     "metadata": {},
     "output_type": "execute_result"
    }
   ],
   "source": [
    "df = pd.read_csv(\"results/score_mnist.csv\")\n",
    "df"
   ]
  },
  {
   "cell_type": "code",
   "execution_count": 22,
   "id": "57a30b97-f55a-4b78-be5a-a5ae89072834",
   "metadata": {},
   "outputs": [],
   "source": [
    "trainig_label = 8\n",
    "labels = np.where(df[\"label\"].values == trainig_label, 0, 1)\n",
    "anomaly_score = df[\"anomaly_score\"].values\n",
    "img_distance = df[\"img_distance\"].values\n",
    "z_distance = df[\"z_distance\"].values\n",
    "fpr, tpr, _ = roc_curve(labels, img_distance)\n",
    "precision, recall, _ = precision_recall_curve(labels, anomaly_score)\n",
    "roc_auc = auc(fpr, tpr)\n",
    "pr_auc =  auc(recall, precision)"
   ]
  },
  {
   "cell_type": "code",
   "execution_count": 23,
   "id": "52f24872-8061-4221-a542-8194fab605b2",
   "metadata": {},
   "outputs": [
    {
     "data": {
      "image/png": "[encoded data removed]",
      "text/plain": [
       "<Figure size 432x288 with 1 Axes>"
      ]
     },
     "metadata": {
      "needs_background": "light"
     },
     "output_type": "display_data"
    }
   ],
   "source": [
    "plt.plot(fpr, tpr, label=f\"AUC = {roc_auc:3f}\")\n",
    "plt.plot([0, 1], [0, 1], linestyle=\"--\")\n",
    "plt.title(\"ROC-AUC\")\n",
    "plt.xlabel(\"False Positive Rate\")\n",
    "plt.ylabel(\"True Positive Rate\")\n",
    "plt.legend()\n",
    "plt.show()"
   ]
  },
  {
   "cell_type": "code",
   "execution_count": 24,
   "id": "91b607d4-8e24-48e2-bbcf-9b9ea918daa7",
   "metadata": {},
   "outputs": [
    {
     "data": {
      "image/png": "[encoded data removed]",
      "text/plain": [
       "<Figure size 432x288 with 1 Axes>"
      ]
     },
     "metadata": {
      "needs_background": "light"
     },
     "output_type": "display_data"
    }
   ],
   "source": [
    "plt.plot(recall, precision, label=f\" AUC = {pr_auc:3f}\")\n",
    "plt.title(\"PR-AUC\")\n",
    "plt.xlabel(\"Recall\")\n",
    "plt.ylabel(\"Pecision\")\n",
    "plt.legend()\n",
    "plt.show()"
   ]
  },
  {
   "cell_type": "code",
   "execution_count": 25,
   "id": "94f5b20e-cf02-4108-9015-d15b9ae85d17",
   "metadata": {},
   "outputs": [],
   "source": [
    "mnist_dict = {'fpr': fpr ,'tpr':tpr}"
   ]
  },
  {
   "cell_type": "code",
   "execution_count": 27,
   "id": "6dcfe809-b2f0-4241-9592-c34d576f26db",
   "metadata": {},
   "outputs": [],
   "source": [
    "results_dict = {'mnist': mnist_dict, 'mvtec':mvtec_dict}"
   ]
  },
  {
   "cell_type": "code",
   "execution_count": 28,
   "id": "3fac37f5-b9b6-4bde-9963-5cd490496d8d",
   "metadata": {},
   "outputs": [],
   "source": [
    "import pickle\n",
    "with open('roc_results_f_anogan.pkl', 'wb')as f:\n",
    "    pickle.dump(results_dict, f)"
   ]
  },
  {
   "cell_type": "code",
   "execution_count": 29,
   "id": "7c831ef1-d52b-4e9a-ac94-519197cbc802",
   "metadata": {},
   "outputs": [],
   "source": [
    "with open('roc_results_f_anogan.pkl', 'rb')as f:\n",
    "    dct = pickle.load(f)"
   ]
  },
  {
   "cell_type": "code",
   "execution_count": 30,
   "id": "47f51e95-d211-4ed2-9117-78442f99459a",
   "metadata": {},
   "outputs": [
    {
     "data": {
      "text/plain": [
       "{'mnist': {'fpr': array([0.        , 0.        , 0.        , ..., 0.96829837, 0.96829837,\n",
       "         1.        ]),\n",
       "  'tpr': array([0.00000000e+00, 1.58290463e-05, 1.49742778e-02, ...,\n",
       "         9.99984171e-01, 1.00000000e+00, 1.00000000e+00])},\n",
       " 'mvtec': {'fpr': array([0.     , 0.     , 0.     , 0.03125, 0.03125, 0.0625 , 0.0625 ,\n",
       "         0.09375, 0.09375, 0.125  , 0.125  , 0.15625, 0.15625, 0.1875 ,\n",
       "         0.1875 , 0.21875, 0.21875, 0.25   , 0.25   , 0.28125, 0.28125,\n",
       "         0.34375, 0.34375, 0.4375 , 0.4375 , 0.46875, 0.46875, 0.5    ,\n",
       "         0.5    , 0.5625 , 0.5625 , 0.59375, 0.59375, 0.625  , 0.625  ,\n",
       "         0.6875 , 0.6875 , 0.875  , 0.875  , 0.9375 , 0.9375 , 1.     ]),\n",
       "  'tpr': array([0.        , 0.00840336, 0.13445378, 0.13445378, 0.26890756,\n",
       "         0.26890756, 0.35294118, 0.35294118, 0.42016807, 0.42016807,\n",
       "         0.53781513, 0.53781513, 0.54621849, 0.54621849, 0.57142857,\n",
       "         0.57142857, 0.66386555, 0.66386555, 0.71428571, 0.71428571,\n",
       "         0.84033613, 0.84033613, 0.8907563 , 0.8907563 , 0.89915966,\n",
       "         0.89915966, 0.91596639, 0.91596639, 0.92436975, 0.92436975,\n",
       "         0.93277311, 0.93277311, 0.94117647, 0.94117647, 0.97478992,\n",
       "         0.97478992, 0.98319328, 0.98319328, 0.99159664, 0.99159664,\n",
       "         1.        , 1.        ])}}"
      ]
     },
     "execution_count": 30,
     "metadata": {},
     "output_type": "execute_result"
    }
   ],
   "source": [
    "dct"
   ]
  },
  {
   "cell_type": "code",
   "execution_count": null,
   "id": "e3e52a55-dc59-4685-8319-0243990c83c8",
   "metadata": {},
   "outputs": [],
   "source": []
  }
 ],
 "metadata": {
  "kernelspec": {
   "display_name": "Python 3",
   "language": "python",
   "name": "python3"
  },
  "language_info": {
   "codemirror_mode": {
    "name": "ipython",
    "version": 3
   },
   "file_extension": ".py",
   "mimetype": "text/x-python",
   "name": "python",
   "nbconvert_exporter": "python",
   "pygments_lexer": "ipython3",
   "version": "3.7.10"
  }
 },
 "nbformat": 4,
 "nbformat_minor": 5
}
